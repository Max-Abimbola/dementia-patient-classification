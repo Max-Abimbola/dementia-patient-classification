{
 "cells": [
  {
   "cell_type": "markdown",
   "metadata": {},
   "source": [
    "# Preprocessing"
   ]
  },
  {
   "cell_type": "markdown",
   "metadata": {},
   "source": [
    "## Import modules and reading datasets"
   ]
  },
  {
   "cell_type": "code",
   "execution_count": 45,
   "metadata": {},
   "outputs": [],
   "source": [
    "import pandas as pd\n",
    "import numpy as np\n",
    "from sklearn.preprocessing import MinMaxScaler\n"
   ]
  },
  {
   "cell_type": "code",
   "execution_count": 46,
   "metadata": {},
   "outputs": [
    {
     "data": {
      "text/plain": [
       "count    142.000000\n",
       "mean       2.492958\n",
       "std        1.128273\n",
       "min        1.000000\n",
       "25%        2.000000\n",
       "50%        2.000000\n",
       "75%        3.000000\n",
       "max        5.000000\n",
       "Name: SES, dtype: float64"
      ]
     },
     "execution_count": 46,
     "metadata": {},
     "output_type": "execute_result"
    }
   ],
   "source": [
    "visit_1_df = pd.read_csv('../data/tabular/visit-1.csv')\n",
    "visit_2_df = pd.read_csv('../data/tabular/visit-2.csv')\n",
    "visit_3_df = pd.read_csv('../data/tabular/visit-3.csv')\n",
    "visit_4_df = pd.read_csv('../data/tabular/visit-4.csv')\n",
    "visit_5_df = pd.read_csv('../data/tabular/visit-5.csv')\n",
    "\n",
    "visit_1_df.head()\n",
    "\n",
    "visit_1_df['SES'].describe()\n"
   ]
  },
  {
   "cell_type": "markdown",
   "metadata": {},
   "source": [
    "## Visit 1"
   ]
  },
  {
   "cell_type": "markdown",
   "metadata": {},
   "source": [
    "### 1. Converting spelling mistakes to single value"
   ]
  },
  {
   "cell_type": "code",
   "execution_count": 47,
   "metadata": {},
   "outputs": [
    {
     "data": {
      "text/plain": [
       "CDR\n",
       "none         85\n",
       "very mild    52\n",
       "mild         13\n",
       "Name: count, dtype: int64"
      ]
     },
     "execution_count": 47,
     "metadata": {},
     "output_type": "execute_result"
    }
   ],
   "source": [
    "visit_1_df['CDR'] = visit_1_df['CDR'].replace(['very miId','very midl','vry mild'], 'very mild')\n",
    "visit_1_df['CDR'].value_counts()\n",
    "\n"
   ]
  },
  {
   "cell_type": "markdown",
   "metadata": {},
   "source": [
    "## Visit 2"
   ]
  },
  {
   "cell_type": "code",
   "execution_count": 48,
   "metadata": {},
   "outputs": [
    {
     "data": {
      "text/plain": [
       "CDR\n",
       "none         73\n",
       "very mild    48\n",
       "mild         18\n",
       "moderate      3\n",
       "midl          1\n",
       "very miId     1\n",
       "Name: count, dtype: int64"
      ]
     },
     "execution_count": 48,
     "metadata": {},
     "output_type": "execute_result"
    }
   ],
   "source": [
    "visit_2_df['CDR'].value_counts()\n"
   ]
  },
  {
   "cell_type": "markdown",
   "metadata": {},
   "source": [
    "### 1. Converting spelling mistakes to single value"
   ]
  },
  {
   "cell_type": "code",
   "execution_count": 49,
   "metadata": {},
   "outputs": [
    {
     "data": {
      "text/plain": [
       "CDR\n",
       "none         73\n",
       "very mild    49\n",
       "mild         19\n",
       "moderate      3\n",
       "Name: count, dtype: int64"
      ]
     },
     "execution_count": 49,
     "metadata": {},
     "output_type": "execute_result"
    }
   ],
   "source": [
    "mild_replace = {'midl':'mild'}\n",
    "very_mild_replace = {'very miId': 'very mild'}\n",
    "\n",
    "visit_2_df['CDR'] = visit_2_df['CDR'].replace(mild_replace)\n",
    "visit_2_df['CDR'] = visit_2_df['CDR'].replace(very_mild_replace)\n",
    "\n",
    "visit_2_df['CDR'].value_counts()\n",
    "\n",
    "\n",
    "\n"
   ]
  },
  {
   "cell_type": "markdown",
   "metadata": {},
   "source": [
    "## Visit 3"
   ]
  },
  {
   "cell_type": "markdown",
   "metadata": {},
   "source": [
    "### 1. Converting spelling mistakes to single value\n",
    "    - No need as none"
   ]
  },
  {
   "cell_type": "code",
   "execution_count": 50,
   "metadata": {},
   "outputs": [
    {
     "data": {
      "text/plain": [
       "CDR\n",
       "none         73\n",
       "very mild    49\n",
       "mild         19\n",
       "moderate      3\n",
       "Name: count, dtype: int64"
      ]
     },
     "execution_count": 50,
     "metadata": {},
     "output_type": "execute_result"
    }
   ],
   "source": [
    "visit_2_df['CDR'].value_counts()"
   ]
  },
  {
   "cell_type": "markdown",
   "metadata": {},
   "source": [
    "## Visit 4"
   ]
  },
  {
   "cell_type": "markdown",
   "metadata": {},
   "source": [
    "### 1. Converting spelling mistakes to singla value\n",
    "    - No need as none"
   ]
  },
  {
   "cell_type": "code",
   "execution_count": 51,
   "metadata": {},
   "outputs": [
    {
     "data": {
      "text/plain": [
       "CDR\n",
       "none         10\n",
       "very mild     3\n",
       "mild          2\n",
       "Name: count, dtype: int64"
      ]
     },
     "execution_count": 51,
     "metadata": {},
     "output_type": "execute_result"
    }
   ],
   "source": [
    "visit_4_df['CDR'].value_counts()"
   ]
  },
  {
   "cell_type": "markdown",
   "metadata": {},
   "source": [
    "## Visit 5"
   ]
  },
  {
   "cell_type": "markdown",
   "metadata": {},
   "source": [
    "### 1. Converting spelling mistakes to singla value\n",
    "    - No need as none"
   ]
  },
  {
   "cell_type": "code",
   "execution_count": 52,
   "metadata": {},
   "outputs": [
    {
     "data": {
      "text/plain": [
       "CDR\n",
       "none         4\n",
       "mild         1\n",
       "very mild    1\n",
       "Name: count, dtype: int64"
      ]
     },
     "execution_count": 52,
     "metadata": {},
     "output_type": "execute_result"
    }
   ],
   "source": [
    "visit_5_df['CDR'].value_counts()"
   ]
  },
  {
   "cell_type": "markdown",
   "metadata": {},
   "source": [
    "## Master Dataset\n"
   ]
  },
  {
   "cell_type": "markdown",
   "metadata": {},
   "source": [
    "### 1. Merging 5 datasets"
   ]
  },
  {
   "cell_type": "code",
   "execution_count": 53,
   "metadata": {},
   "outputs": [
    {
     "name": "stdout",
     "output_type": "stream",
     "text": [
      "<class 'pandas.core.frame.DataFrame'>\n",
      "RangeIndex: 373 entries, 0 to 372\n",
      "Data columns (total 14 columns):\n",
      " #   Column  Non-Null Count  Dtype  \n",
      "---  ------  --------------  -----  \n",
      " 0   ID      373 non-null    int64  \n",
      " 1   MRI_ID  373 non-null    object \n",
      " 2   visit   373 non-null    int64  \n",
      " 3   delay   373 non-null    int64  \n",
      " 4   sex     373 non-null    object \n",
      " 5   hand    373 non-null    object \n",
      " 6   age     373 non-null    int64  \n",
      " 7   YOE     373 non-null    int64  \n",
      " 8   SES     354 non-null    float64\n",
      " 9   MMSE    371 non-null    float64\n",
      " 10  CDR     373 non-null    object \n",
      " 11  eTIV    371 non-null    float64\n",
      " 12  nWBV    373 non-null    float64\n",
      " 13  ASF     371 non-null    object \n",
      "dtypes: float64(4), int64(5), object(5)\n",
      "memory usage: 40.9+ KB\n"
     ]
    }
   ],
   "source": [
    "merged_df = pd.concat([visit_1_df, visit_2_df, visit_3_df, visit_4_df, visit_5_df], axis=0, ignore_index=True)\n",
    "\n",
    "\n",
    "merged_df.isna().sum()\n",
    "\n",
    "merged_df.info()"
   ]
  },
  {
   "cell_type": "code",
   "execution_count": 54,
   "metadata": {},
   "outputs": [
    {
     "data": {
      "text/html": [
       "<div>\n",
       "<style scoped>\n",
       "    .dataframe tbody tr th:only-of-type {\n",
       "        vertical-align: middle;\n",
       "    }\n",
       "\n",
       "    .dataframe tbody tr th {\n",
       "        vertical-align: top;\n",
       "    }\n",
       "\n",
       "    .dataframe thead th {\n",
       "        text-align: right;\n",
       "    }\n",
       "</style>\n",
       "<table border=\"1\" class=\"dataframe\">\n",
       "  <thead>\n",
       "    <tr style=\"text-align: right;\">\n",
       "      <th></th>\n",
       "      <th>ID</th>\n",
       "      <th>MRI_ID</th>\n",
       "      <th>visit</th>\n",
       "      <th>delay</th>\n",
       "      <th>sex</th>\n",
       "      <th>age</th>\n",
       "      <th>YOE</th>\n",
       "      <th>SES</th>\n",
       "      <th>MMSE</th>\n",
       "      <th>CDR</th>\n",
       "      <th>eTIV</th>\n",
       "      <th>nWBV</th>\n",
       "      <th>ASF</th>\n",
       "    </tr>\n",
       "  </thead>\n",
       "  <tbody>\n",
       "    <tr>\n",
       "      <th>0</th>\n",
       "      <td>1</td>\n",
       "      <td>0001_MR1</td>\n",
       "      <td>1</td>\n",
       "      <td>0</td>\n",
       "      <td>M</td>\n",
       "      <td>87</td>\n",
       "      <td>14</td>\n",
       "      <td>2.0</td>\n",
       "      <td>27.0</td>\n",
       "      <td>none</td>\n",
       "      <td>1987.0</td>\n",
       "      <td>0.696</td>\n",
       "      <td>0.883</td>\n",
       "    </tr>\n",
       "    <tr>\n",
       "      <th>1</th>\n",
       "      <td>2</td>\n",
       "      <td>0002_MR1</td>\n",
       "      <td>1</td>\n",
       "      <td>0</td>\n",
       "      <td>M</td>\n",
       "      <td>75</td>\n",
       "      <td>12</td>\n",
       "      <td>NaN</td>\n",
       "      <td>23.0</td>\n",
       "      <td>very mild</td>\n",
       "      <td>1678.0</td>\n",
       "      <td>0.736</td>\n",
       "      <td>1.046</td>\n",
       "    </tr>\n",
       "    <tr>\n",
       "      <th>2</th>\n",
       "      <td>4</td>\n",
       "      <td>0004_MR1</td>\n",
       "      <td>1</td>\n",
       "      <td>0</td>\n",
       "      <td>F</td>\n",
       "      <td>88</td>\n",
       "      <td>18</td>\n",
       "      <td>3.0</td>\n",
       "      <td>28.0</td>\n",
       "      <td>none</td>\n",
       "      <td>1215.0</td>\n",
       "      <td>0.710</td>\n",
       "      <td>1.444</td>\n",
       "    </tr>\n",
       "    <tr>\n",
       "      <th>3</th>\n",
       "      <td>5</td>\n",
       "      <td>0005_MR1</td>\n",
       "      <td>1</td>\n",
       "      <td>0</td>\n",
       "      <td>M</td>\n",
       "      <td>80</td>\n",
       "      <td>12</td>\n",
       "      <td>4.0</td>\n",
       "      <td>28.0</td>\n",
       "      <td>none</td>\n",
       "      <td>1689.0</td>\n",
       "      <td>0.712</td>\n",
       "      <td>1.039</td>\n",
       "    </tr>\n",
       "    <tr>\n",
       "      <th>4</th>\n",
       "      <td>7</td>\n",
       "      <td>0007_MR1</td>\n",
       "      <td>1</td>\n",
       "      <td>0</td>\n",
       "      <td>M</td>\n",
       "      <td>71</td>\n",
       "      <td>16</td>\n",
       "      <td>NaN</td>\n",
       "      <td>28.0</td>\n",
       "      <td>very mild</td>\n",
       "      <td>1357.0</td>\n",
       "      <td>0.748</td>\n",
       "      <td>1.293</td>\n",
       "    </tr>\n",
       "    <tr>\n",
       "      <th>...</th>\n",
       "      <td>...</td>\n",
       "      <td>...</td>\n",
       "      <td>...</td>\n",
       "      <td>...</td>\n",
       "      <td>...</td>\n",
       "      <td>...</td>\n",
       "      <td>...</td>\n",
       "      <td>...</td>\n",
       "      <td>...</td>\n",
       "      <td>...</td>\n",
       "      <td>...</td>\n",
       "      <td>...</td>\n",
       "      <td>...</td>\n",
       "    </tr>\n",
       "    <tr>\n",
       "      <th>368</th>\n",
       "      <td>36</td>\n",
       "      <td>0036_MR5</td>\n",
       "      <td>5</td>\n",
       "      <td>2369</td>\n",
       "      <td>F</td>\n",
       "      <td>75</td>\n",
       "      <td>13</td>\n",
       "      <td>4.0</td>\n",
       "      <td>29.0</td>\n",
       "      <td>none</td>\n",
       "      <td>1349.0</td>\n",
       "      <td>0.778</td>\n",
       "      <td>1.301</td>\n",
       "    </tr>\n",
       "    <tr>\n",
       "      <th>369</th>\n",
       "      <td>48</td>\n",
       "      <td>0048_MR5</td>\n",
       "      <td>5</td>\n",
       "      <td>1233</td>\n",
       "      <td>M</td>\n",
       "      <td>69</td>\n",
       "      <td>16</td>\n",
       "      <td>1.0</td>\n",
       "      <td>4.0</td>\n",
       "      <td>mild</td>\n",
       "      <td>1701.0</td>\n",
       "      <td>0.676</td>\n",
       "      <td>1.032</td>\n",
       "    </tr>\n",
       "    <tr>\n",
       "      <th>370</th>\n",
       "      <td>70</td>\n",
       "      <td>0070_MR5</td>\n",
       "      <td>5</td>\n",
       "      <td>2386</td>\n",
       "      <td>M</td>\n",
       "      <td>86</td>\n",
       "      <td>17</td>\n",
       "      <td>1.0</td>\n",
       "      <td>30.0</td>\n",
       "      <td>none</td>\n",
       "      <td>1720.0</td>\n",
       "      <td>0.705</td>\n",
       "      <td>1.02</td>\n",
       "    </tr>\n",
       "    <tr>\n",
       "      <th>371</th>\n",
       "      <td>73</td>\n",
       "      <td>0073_MR5</td>\n",
       "      <td>5</td>\n",
       "      <td>2517</td>\n",
       "      <td>F</td>\n",
       "      <td>77</td>\n",
       "      <td>14</td>\n",
       "      <td>3.0</td>\n",
       "      <td>29.0</td>\n",
       "      <td>none</td>\n",
       "      <td>1504.0</td>\n",
       "      <td>0.769</td>\n",
       "      <td>1.167</td>\n",
       "    </tr>\n",
       "    <tr>\n",
       "      <th>372</th>\n",
       "      <td>127</td>\n",
       "      <td>0127_MR5</td>\n",
       "      <td>5</td>\n",
       "      <td>2639</td>\n",
       "      <td>M</td>\n",
       "      <td>86</td>\n",
       "      <td>18</td>\n",
       "      <td>1.0</td>\n",
       "      <td>30.0</td>\n",
       "      <td>very mild</td>\n",
       "      <td>1670.0</td>\n",
       "      <td>0.669</td>\n",
       "      <td>1.051</td>\n",
       "    </tr>\n",
       "  </tbody>\n",
       "</table>\n",
       "<p>373 rows × 13 columns</p>\n",
       "</div>"
      ],
      "text/plain": [
       "      ID    MRI_ID  visit  delay sex  age  YOE  SES  MMSE        CDR    eTIV  \\\n",
       "0      1  0001_MR1      1      0   M   87   14  2.0  27.0       none  1987.0   \n",
       "1      2  0002_MR1      1      0   M   75   12  NaN  23.0  very mild  1678.0   \n",
       "2      4  0004_MR1      1      0   F   88   18  3.0  28.0       none  1215.0   \n",
       "3      5  0005_MR1      1      0   M   80   12  4.0  28.0       none  1689.0   \n",
       "4      7  0007_MR1      1      0   M   71   16  NaN  28.0  very mild  1357.0   \n",
       "..   ...       ...    ...    ...  ..  ...  ...  ...   ...        ...     ...   \n",
       "368   36  0036_MR5      5   2369   F   75   13  4.0  29.0       none  1349.0   \n",
       "369   48  0048_MR5      5   1233   M   69   16  1.0   4.0       mild  1701.0   \n",
       "370   70  0070_MR5      5   2386   M   86   17  1.0  30.0       none  1720.0   \n",
       "371   73  0073_MR5      5   2517   F   77   14  3.0  29.0       none  1504.0   \n",
       "372  127  0127_MR5      5   2639   M   86   18  1.0  30.0  very mild  1670.0   \n",
       "\n",
       "      nWBV    ASF  \n",
       "0    0.696  0.883  \n",
       "1    0.736  1.046  \n",
       "2    0.710  1.444  \n",
       "3    0.712  1.039  \n",
       "4    0.748  1.293  \n",
       "..     ...    ...  \n",
       "368  0.778  1.301  \n",
       "369  0.676  1.032  \n",
       "370  0.705   1.02  \n",
       "371  0.769  1.167  \n",
       "372  0.669  1.051  \n",
       "\n",
       "[373 rows x 13 columns]"
      ]
     },
     "execution_count": 54,
     "metadata": {},
     "output_type": "execute_result"
    }
   ],
   "source": [
    "merged_df.drop(['hand'],axis=1,inplace=True)\n",
    "merged_df\n",
    "\n"
   ]
  },
  {
   "cell_type": "markdown",
   "metadata": {},
   "source": [
    "### 2. Changing types to category for memory efficiency\n",
    "\n",
    "- reduced memory usage from memory usage: 40.9+ KB to 25.7"
   ]
  },
  {
   "cell_type": "code",
   "execution_count": 55,
   "metadata": {},
   "outputs": [
    {
     "ename": "KeyError",
     "evalue": "'hand'",
     "output_type": "error",
     "traceback": [
      "\u001b[1;31m---------------------------------------------------------------------------\u001b[0m",
      "\u001b[1;31mKeyError\u001b[0m                                  Traceback (most recent call last)",
      "File \u001b[1;32mc:\\Users\\Temp\\VS Code Projects\\biomed-assignment\\.venv\\lib\\site-packages\\pandas\\core\\indexes\\base.py:3791\u001b[0m, in \u001b[0;36mIndex.get_loc\u001b[1;34m(self, key)\u001b[0m\n\u001b[0;32m   3790\u001b[0m \u001b[38;5;28;01mtry\u001b[39;00m:\n\u001b[1;32m-> 3791\u001b[0m     \u001b[38;5;28;01mreturn\u001b[39;00m \u001b[38;5;28;43mself\u001b[39;49m\u001b[38;5;241;43m.\u001b[39;49m\u001b[43m_engine\u001b[49m\u001b[38;5;241;43m.\u001b[39;49m\u001b[43mget_loc\u001b[49m\u001b[43m(\u001b[49m\u001b[43mcasted_key\u001b[49m\u001b[43m)\u001b[49m\n\u001b[0;32m   3792\u001b[0m \u001b[38;5;28;01mexcept\u001b[39;00m \u001b[38;5;167;01mKeyError\u001b[39;00m \u001b[38;5;28;01mas\u001b[39;00m err:\n",
      "File \u001b[1;32mindex.pyx:152\u001b[0m, in \u001b[0;36mpandas._libs.index.IndexEngine.get_loc\u001b[1;34m()\u001b[0m\n",
      "File \u001b[1;32mindex.pyx:181\u001b[0m, in \u001b[0;36mpandas._libs.index.IndexEngine.get_loc\u001b[1;34m()\u001b[0m\n",
      "File \u001b[1;32mpandas\\_libs\\hashtable_class_helper.pxi:7080\u001b[0m, in \u001b[0;36mpandas._libs.hashtable.PyObjectHashTable.get_item\u001b[1;34m()\u001b[0m\n",
      "File \u001b[1;32mpandas\\_libs\\hashtable_class_helper.pxi:7088\u001b[0m, in \u001b[0;36mpandas._libs.hashtable.PyObjectHashTable.get_item\u001b[1;34m()\u001b[0m\n",
      "\u001b[1;31mKeyError\u001b[0m: 'hand'",
      "\nThe above exception was the direct cause of the following exception:\n",
      "\u001b[1;31mKeyError\u001b[0m                                  Traceback (most recent call last)",
      "Cell \u001b[1;32mIn[55], line 2\u001b[0m\n\u001b[0;32m      1\u001b[0m merged_df[\u001b[38;5;124m'\u001b[39m\u001b[38;5;124msex\u001b[39m\u001b[38;5;124m'\u001b[39m] \u001b[38;5;241m=\u001b[39m merged_df[\u001b[38;5;124m'\u001b[39m\u001b[38;5;124msex\u001b[39m\u001b[38;5;124m'\u001b[39m]\u001b[38;5;241m.\u001b[39mastype(\u001b[38;5;124m'\u001b[39m\u001b[38;5;124mcategory\u001b[39m\u001b[38;5;124m'\u001b[39m)\n\u001b[1;32m----> 2\u001b[0m merged_df[\u001b[38;5;124m'\u001b[39m\u001b[38;5;124mhand\u001b[39m\u001b[38;5;124m'\u001b[39m] \u001b[38;5;241m=\u001b[39m \u001b[43mmerged_df\u001b[49m\u001b[43m[\u001b[49m\u001b[38;5;124;43m'\u001b[39;49m\u001b[38;5;124;43mhand\u001b[39;49m\u001b[38;5;124;43m'\u001b[39;49m\u001b[43m]\u001b[49m\u001b[38;5;241m.\u001b[39mastype(\u001b[38;5;124m'\u001b[39m\u001b[38;5;124mcategory\u001b[39m\u001b[38;5;124m'\u001b[39m)\n\u001b[0;32m      3\u001b[0m merged_df[\u001b[38;5;124m'\u001b[39m\u001b[38;5;124mYOE\u001b[39m\u001b[38;5;124m'\u001b[39m] \u001b[38;5;241m=\u001b[39m merged_df[\u001b[38;5;124m'\u001b[39m\u001b[38;5;124mYOE\u001b[39m\u001b[38;5;124m'\u001b[39m]\u001b[38;5;241m.\u001b[39mastype(\u001b[38;5;124m'\u001b[39m\u001b[38;5;124mcategory\u001b[39m\u001b[38;5;124m'\u001b[39m)\n\u001b[0;32m      4\u001b[0m merged_df[\u001b[38;5;124m'\u001b[39m\u001b[38;5;124mage\u001b[39m\u001b[38;5;124m'\u001b[39m] \u001b[38;5;241m=\u001b[39m merged_df[\u001b[38;5;124m'\u001b[39m\u001b[38;5;124mage\u001b[39m\u001b[38;5;124m'\u001b[39m]\u001b[38;5;241m.\u001b[39mastype(\u001b[38;5;124m'\u001b[39m\u001b[38;5;124mcategory\u001b[39m\u001b[38;5;124m'\u001b[39m)\n",
      "File \u001b[1;32mc:\\Users\\Temp\\VS Code Projects\\biomed-assignment\\.venv\\lib\\site-packages\\pandas\\core\\frame.py:3893\u001b[0m, in \u001b[0;36mDataFrame.__getitem__\u001b[1;34m(self, key)\u001b[0m\n\u001b[0;32m   3891\u001b[0m \u001b[38;5;28;01mif\u001b[39;00m \u001b[38;5;28mself\u001b[39m\u001b[38;5;241m.\u001b[39mcolumns\u001b[38;5;241m.\u001b[39mnlevels \u001b[38;5;241m>\u001b[39m \u001b[38;5;241m1\u001b[39m:\n\u001b[0;32m   3892\u001b[0m     \u001b[38;5;28;01mreturn\u001b[39;00m \u001b[38;5;28mself\u001b[39m\u001b[38;5;241m.\u001b[39m_getitem_multilevel(key)\n\u001b[1;32m-> 3893\u001b[0m indexer \u001b[38;5;241m=\u001b[39m \u001b[38;5;28;43mself\u001b[39;49m\u001b[38;5;241;43m.\u001b[39;49m\u001b[43mcolumns\u001b[49m\u001b[38;5;241;43m.\u001b[39;49m\u001b[43mget_loc\u001b[49m\u001b[43m(\u001b[49m\u001b[43mkey\u001b[49m\u001b[43m)\u001b[49m\n\u001b[0;32m   3894\u001b[0m \u001b[38;5;28;01mif\u001b[39;00m is_integer(indexer):\n\u001b[0;32m   3895\u001b[0m     indexer \u001b[38;5;241m=\u001b[39m [indexer]\n",
      "File \u001b[1;32mc:\\Users\\Temp\\VS Code Projects\\biomed-assignment\\.venv\\lib\\site-packages\\pandas\\core\\indexes\\base.py:3798\u001b[0m, in \u001b[0;36mIndex.get_loc\u001b[1;34m(self, key)\u001b[0m\n\u001b[0;32m   3793\u001b[0m     \u001b[38;5;28;01mif\u001b[39;00m \u001b[38;5;28misinstance\u001b[39m(casted_key, \u001b[38;5;28mslice\u001b[39m) \u001b[38;5;129;01mor\u001b[39;00m (\n\u001b[0;32m   3794\u001b[0m         \u001b[38;5;28misinstance\u001b[39m(casted_key, abc\u001b[38;5;241m.\u001b[39mIterable)\n\u001b[0;32m   3795\u001b[0m         \u001b[38;5;129;01mand\u001b[39;00m \u001b[38;5;28many\u001b[39m(\u001b[38;5;28misinstance\u001b[39m(x, \u001b[38;5;28mslice\u001b[39m) \u001b[38;5;28;01mfor\u001b[39;00m x \u001b[38;5;129;01min\u001b[39;00m casted_key)\n\u001b[0;32m   3796\u001b[0m     ):\n\u001b[0;32m   3797\u001b[0m         \u001b[38;5;28;01mraise\u001b[39;00m InvalidIndexError(key)\n\u001b[1;32m-> 3798\u001b[0m     \u001b[38;5;28;01mraise\u001b[39;00m \u001b[38;5;167;01mKeyError\u001b[39;00m(key) \u001b[38;5;28;01mfrom\u001b[39;00m \u001b[38;5;21;01merr\u001b[39;00m\n\u001b[0;32m   3799\u001b[0m \u001b[38;5;28;01mexcept\u001b[39;00m \u001b[38;5;167;01mTypeError\u001b[39;00m:\n\u001b[0;32m   3800\u001b[0m     \u001b[38;5;66;03m# If we have a listlike key, _check_indexing_error will raise\u001b[39;00m\n\u001b[0;32m   3801\u001b[0m     \u001b[38;5;66;03m#  InvalidIndexError. Otherwise we fall through and re-raise\u001b[39;00m\n\u001b[0;32m   3802\u001b[0m     \u001b[38;5;66;03m#  the TypeError.\u001b[39;00m\n\u001b[0;32m   3803\u001b[0m     \u001b[38;5;28mself\u001b[39m\u001b[38;5;241m.\u001b[39m_check_indexing_error(key)\n",
      "\u001b[1;31mKeyError\u001b[0m: 'hand'"
     ]
    }
   ],
   "source": [
    "merged_df['sex'] = merged_df['sex'].astype('category')\n",
    "merged_df['hand'] = merged_df['hand'].astype('category')\n",
    "merged_df['YOE'] = merged_df['YOE'].astype('category')\n",
    "merged_df['age'] = merged_df['age'].astype('category')\n",
    "merged_df['SES'] = merged_df['SES'].astype('category')\n",
    "merged_df['CDR'] = merged_df['CDR'].astype('category')\n",
    "merged_df['visit'] = merged_df['visit'].astype('category')\n",
    "\n",
    "\n",
    "merged_df.info()"
   ]
  },
  {
   "cell_type": "markdown",
   "metadata": {},
   "source": [
    "### Modifying erroneous string value in ASF column"
   ]
  },
  {
   "cell_type": "code",
   "execution_count": null,
   "metadata": {},
   "outputs": [
    {
     "name": "stdout",
     "output_type": "stream",
     "text": [
      "<class 'pandas.core.frame.DataFrame'>\n",
      "RangeIndex: 373 entries, 0 to 372\n",
      "Data columns (total 14 columns):\n",
      " #   Column  Non-Null Count  Dtype   \n",
      "---  ------  --------------  -----   \n",
      " 0   ID      373 non-null    int64   \n",
      " 1   MRI_ID  373 non-null    object  \n",
      " 2   visit   373 non-null    category\n",
      " 3   delay   373 non-null    int64   \n",
      " 4   sex     373 non-null    category\n",
      " 5   hand    373 non-null    category\n",
      " 6   age     373 non-null    category\n",
      " 7   YOE     373 non-null    category\n",
      " 8   SES     354 non-null    category\n",
      " 9   MMSE    371 non-null    float64 \n",
      " 10  CDR     373 non-null    category\n",
      " 11  eTIV    371 non-null    float64 \n",
      " 12  nWBV    373 non-null    float64 \n",
      " 13  ASF     371 non-null    float64 \n",
      "dtypes: category(7), float64(4), int64(2), object(1)\n",
      "memory usage: 25.7+ KB\n"
     ]
    }
   ],
   "source": [
    "# merged_df['ASF'] = merged_df['ASF'].astype('float') - Returns error as there is a string in the column '1,38'\n",
    "\n",
    "merged_df['ASF'] = merged_df['ASF'].replace({'1,38': 1.38})\n",
    "\n",
    "merged_df['ASF'] = merged_df['ASF'].astype('float')\n",
    "\n",
    "merged_df.info()"
   ]
  },
  {
   "cell_type": "markdown",
   "metadata": {},
   "source": [
    "### Removing leading zeros"
   ]
  },
  {
   "cell_type": "code",
   "execution_count": null,
   "metadata": {},
   "outputs": [],
   "source": [
    "merged_df['MRI_ID'] = merged_df['MRI_ID'].astype(str).str.lstrip('0')"
   ]
  },
  {
   "cell_type": "code",
   "execution_count": null,
   "metadata": {},
   "outputs": [],
   "source": [
    "merged_df.isna().sum()\n",
    "\n",
    "merged_df.to_csv('../data/eda.csv', index=False)"
   ]
  },
  {
   "cell_type": "markdown",
   "metadata": {},
   "source": [
    "### Imputing nan values"
   ]
  },
  {
   "cell_type": "code",
   "execution_count": null,
   "metadata": {},
   "outputs": [],
   "source": [
    "nan_values = ['SES','MMSE','ASF','eTIV']\n",
    "\n",
    "def impute_na_values(feature):\n",
    "    mode = merged_df[feature].mode()[0]\n",
    "    merged_df[feature].fillna(mode,inplace=True)\n",
    "\n",
    "for feature in nan_values:\n",
    "    impute_na_values(feature)\n"
   ]
  },
  {
   "cell_type": "markdown",
   "metadata": {},
   "source": [
    "### Convert CDR values into numbers "
   ]
  },
  {
   "cell_type": "code",
   "execution_count": null,
   "metadata": {},
   "outputs": [
    {
     "data": {
      "text/plain": [
       "0"
      ]
     },
     "execution_count": 38,
     "metadata": {},
     "output_type": "execute_result"
    }
   ],
   "source": [
    "CDR_mapping = {'none':0, 'very mild':1, 'mild':2, 'moderate':3, 'severe':4}\n",
    "\n",
    "merged_df['CDR_rating'] = merged_df['CDR'].replace(CDR_mapping)\n",
    "\n",
    "merged_df['CDR'].value_counts()\n",
    "\n",
    "(merged_df['ASF'].unique() == '1,38').sum()"
   ]
  },
  {
   "cell_type": "markdown",
   "metadata": {},
   "source": [
    "### Convert Sex into 0 and 1"
   ]
  },
  {
   "cell_type": "code",
   "execution_count": null,
   "metadata": {},
   "outputs": [
    {
     "data": {
      "text/html": [
       "<div>\n",
       "<style scoped>\n",
       "    .dataframe tbody tr th:only-of-type {\n",
       "        vertical-align: middle;\n",
       "    }\n",
       "\n",
       "    .dataframe tbody tr th {\n",
       "        vertical-align: top;\n",
       "    }\n",
       "\n",
       "    .dataframe thead th {\n",
       "        text-align: right;\n",
       "    }\n",
       "</style>\n",
       "<table border=\"1\" class=\"dataframe\">\n",
       "  <thead>\n",
       "    <tr style=\"text-align: right;\">\n",
       "      <th></th>\n",
       "      <th>ID</th>\n",
       "      <th>MRI_ID</th>\n",
       "      <th>visit</th>\n",
       "      <th>delay</th>\n",
       "      <th>sex</th>\n",
       "      <th>hand</th>\n",
       "      <th>age</th>\n",
       "      <th>YOE</th>\n",
       "      <th>SES</th>\n",
       "      <th>MMSE</th>\n",
       "      <th>CDR</th>\n",
       "      <th>eTIV</th>\n",
       "      <th>nWBV</th>\n",
       "      <th>ASF</th>\n",
       "      <th>CDR_rating</th>\n",
       "    </tr>\n",
       "  </thead>\n",
       "  <tbody>\n",
       "    <tr>\n",
       "      <th>0</th>\n",
       "      <td>1</td>\n",
       "      <td>1_MR1</td>\n",
       "      <td>1</td>\n",
       "      <td>0</td>\n",
       "      <td>1</td>\n",
       "      <td>R</td>\n",
       "      <td>87</td>\n",
       "      <td>14</td>\n",
       "      <td>2.0</td>\n",
       "      <td>27.0</td>\n",
       "      <td>none</td>\n",
       "      <td>1987.0</td>\n",
       "      <td>0.696</td>\n",
       "      <td>0.883</td>\n",
       "      <td>0</td>\n",
       "    </tr>\n",
       "    <tr>\n",
       "      <th>1</th>\n",
       "      <td>2</td>\n",
       "      <td>2_MR1</td>\n",
       "      <td>1</td>\n",
       "      <td>0</td>\n",
       "      <td>1</td>\n",
       "      <td>R</td>\n",
       "      <td>75</td>\n",
       "      <td>12</td>\n",
       "      <td>2.0</td>\n",
       "      <td>23.0</td>\n",
       "      <td>very mild</td>\n",
       "      <td>1678.0</td>\n",
       "      <td>0.736</td>\n",
       "      <td>1.046</td>\n",
       "      <td>1</td>\n",
       "    </tr>\n",
       "    <tr>\n",
       "      <th>2</th>\n",
       "      <td>4</td>\n",
       "      <td>4_MR1</td>\n",
       "      <td>1</td>\n",
       "      <td>0</td>\n",
       "      <td>0</td>\n",
       "      <td>R</td>\n",
       "      <td>88</td>\n",
       "      <td>18</td>\n",
       "      <td>3.0</td>\n",
       "      <td>28.0</td>\n",
       "      <td>none</td>\n",
       "      <td>1215.0</td>\n",
       "      <td>0.710</td>\n",
       "      <td>1.444</td>\n",
       "      <td>0</td>\n",
       "    </tr>\n",
       "    <tr>\n",
       "      <th>3</th>\n",
       "      <td>5</td>\n",
       "      <td>5_MR1</td>\n",
       "      <td>1</td>\n",
       "      <td>0</td>\n",
       "      <td>1</td>\n",
       "      <td>R</td>\n",
       "      <td>80</td>\n",
       "      <td>12</td>\n",
       "      <td>4.0</td>\n",
       "      <td>28.0</td>\n",
       "      <td>none</td>\n",
       "      <td>1689.0</td>\n",
       "      <td>0.712</td>\n",
       "      <td>1.039</td>\n",
       "      <td>0</td>\n",
       "    </tr>\n",
       "    <tr>\n",
       "      <th>4</th>\n",
       "      <td>7</td>\n",
       "      <td>7_MR1</td>\n",
       "      <td>1</td>\n",
       "      <td>0</td>\n",
       "      <td>1</td>\n",
       "      <td>R</td>\n",
       "      <td>71</td>\n",
       "      <td>16</td>\n",
       "      <td>2.0</td>\n",
       "      <td>28.0</td>\n",
       "      <td>very mild</td>\n",
       "      <td>1357.0</td>\n",
       "      <td>0.748</td>\n",
       "      <td>1.293</td>\n",
       "      <td>1</td>\n",
       "    </tr>\n",
       "    <tr>\n",
       "      <th>...</th>\n",
       "      <td>...</td>\n",
       "      <td>...</td>\n",
       "      <td>...</td>\n",
       "      <td>...</td>\n",
       "      <td>...</td>\n",
       "      <td>...</td>\n",
       "      <td>...</td>\n",
       "      <td>...</td>\n",
       "      <td>...</td>\n",
       "      <td>...</td>\n",
       "      <td>...</td>\n",
       "      <td>...</td>\n",
       "      <td>...</td>\n",
       "      <td>...</td>\n",
       "      <td>...</td>\n",
       "    </tr>\n",
       "    <tr>\n",
       "      <th>368</th>\n",
       "      <td>36</td>\n",
       "      <td>36_MR5</td>\n",
       "      <td>5</td>\n",
       "      <td>2369</td>\n",
       "      <td>0</td>\n",
       "      <td>R</td>\n",
       "      <td>75</td>\n",
       "      <td>13</td>\n",
       "      <td>4.0</td>\n",
       "      <td>29.0</td>\n",
       "      <td>none</td>\n",
       "      <td>1349.0</td>\n",
       "      <td>0.778</td>\n",
       "      <td>1.301</td>\n",
       "      <td>0</td>\n",
       "    </tr>\n",
       "    <tr>\n",
       "      <th>369</th>\n",
       "      <td>48</td>\n",
       "      <td>48_MR5</td>\n",
       "      <td>5</td>\n",
       "      <td>1233</td>\n",
       "      <td>1</td>\n",
       "      <td>R</td>\n",
       "      <td>69</td>\n",
       "      <td>16</td>\n",
       "      <td>1.0</td>\n",
       "      <td>4.0</td>\n",
       "      <td>mild</td>\n",
       "      <td>1701.0</td>\n",
       "      <td>0.676</td>\n",
       "      <td>1.032</td>\n",
       "      <td>2</td>\n",
       "    </tr>\n",
       "    <tr>\n",
       "      <th>370</th>\n",
       "      <td>70</td>\n",
       "      <td>70_MR5</td>\n",
       "      <td>5</td>\n",
       "      <td>2386</td>\n",
       "      <td>1</td>\n",
       "      <td>R</td>\n",
       "      <td>86</td>\n",
       "      <td>17</td>\n",
       "      <td>1.0</td>\n",
       "      <td>30.0</td>\n",
       "      <td>none</td>\n",
       "      <td>1720.0</td>\n",
       "      <td>0.705</td>\n",
       "      <td>1.020</td>\n",
       "      <td>0</td>\n",
       "    </tr>\n",
       "    <tr>\n",
       "      <th>371</th>\n",
       "      <td>73</td>\n",
       "      <td>73_MR5</td>\n",
       "      <td>5</td>\n",
       "      <td>2517</td>\n",
       "      <td>0</td>\n",
       "      <td>R</td>\n",
       "      <td>77</td>\n",
       "      <td>14</td>\n",
       "      <td>3.0</td>\n",
       "      <td>29.0</td>\n",
       "      <td>none</td>\n",
       "      <td>1504.0</td>\n",
       "      <td>0.769</td>\n",
       "      <td>1.167</td>\n",
       "      <td>0</td>\n",
       "    </tr>\n",
       "    <tr>\n",
       "      <th>372</th>\n",
       "      <td>127</td>\n",
       "      <td>127_MR5</td>\n",
       "      <td>5</td>\n",
       "      <td>2639</td>\n",
       "      <td>1</td>\n",
       "      <td>R</td>\n",
       "      <td>86</td>\n",
       "      <td>18</td>\n",
       "      <td>1.0</td>\n",
       "      <td>30.0</td>\n",
       "      <td>very mild</td>\n",
       "      <td>1670.0</td>\n",
       "      <td>0.669</td>\n",
       "      <td>1.051</td>\n",
       "      <td>1</td>\n",
       "    </tr>\n",
       "  </tbody>\n",
       "</table>\n",
       "<p>373 rows × 15 columns</p>\n",
       "</div>"
      ],
      "text/plain": [
       "      ID   MRI_ID visit  delay sex hand age YOE  SES  MMSE        CDR    eTIV  \\\n",
       "0      1    1_MR1     1      0   1    R  87  14  2.0  27.0       none  1987.0   \n",
       "1      2    2_MR1     1      0   1    R  75  12  2.0  23.0  very mild  1678.0   \n",
       "2      4    4_MR1     1      0   0    R  88  18  3.0  28.0       none  1215.0   \n",
       "3      5    5_MR1     1      0   1    R  80  12  4.0  28.0       none  1689.0   \n",
       "4      7    7_MR1     1      0   1    R  71  16  2.0  28.0  very mild  1357.0   \n",
       "..   ...      ...   ...    ...  ..  ...  ..  ..  ...   ...        ...     ...   \n",
       "368   36   36_MR5     5   2369   0    R  75  13  4.0  29.0       none  1349.0   \n",
       "369   48   48_MR5     5   1233   1    R  69  16  1.0   4.0       mild  1701.0   \n",
       "370   70   70_MR5     5   2386   1    R  86  17  1.0  30.0       none  1720.0   \n",
       "371   73   73_MR5     5   2517   0    R  77  14  3.0  29.0       none  1504.0   \n",
       "372  127  127_MR5     5   2639   1    R  86  18  1.0  30.0  very mild  1670.0   \n",
       "\n",
       "      nWBV    ASF CDR_rating  \n",
       "0    0.696  0.883          0  \n",
       "1    0.736  1.046          1  \n",
       "2    0.710  1.444          0  \n",
       "3    0.712  1.039          0  \n",
       "4    0.748  1.293          1  \n",
       "..     ...    ...        ...  \n",
       "368  0.778  1.301          0  \n",
       "369  0.676  1.032          2  \n",
       "370  0.705  1.020          0  \n",
       "371  0.769  1.167          0  \n",
       "372  0.669  1.051          1  \n",
       "\n",
       "[373 rows x 15 columns]"
      ]
     },
     "execution_count": 39,
     "metadata": {},
     "output_type": "execute_result"
    }
   ],
   "source": [
    "sex_mapping = {'M':1,'F':0}\n",
    "\n",
    "merged_df['sex'].replace(sex_mapping, inplace=True)\n",
    "\n",
    "merged_df"
   ]
  },
  {
   "cell_type": "markdown",
   "metadata": {},
   "source": [
    "### Scale 'eTIV' and 'delay' values"
   ]
  },
  {
   "cell_type": "code",
   "execution_count": null,
   "metadata": {},
   "outputs": [
    {
     "data": {
      "text/plain": [
       "\" scaler = MinMaxScaler()\\n\\nfeatures = ['eTIV', 'delay']\\n\\ndef scale_feature(feature):\\n    arr = np.array((merged_df[feature]))\\n    arr = arr.reshape(-1,1)\\n    arr = scaler.fit_transform(arr)\\n    merged_df[feature] = arr\\n\\nfor feature in features:\\n    scale_feature(feature)\\n\\nmerged_df \""
      ]
     },
     "execution_count": 41,
     "metadata": {},
     "output_type": "execute_result"
    }
   ],
   "source": [
    "\"\"\" scaler = MinMaxScaler()\n",
    "\n",
    "features = ['eTIV', 'delay']\n",
    "\n",
    "def scale_feature(feature):\n",
    "    arr = np.array((merged_df[feature]))\n",
    "    arr = arr.reshape(-1,1)\n",
    "    arr = scaler.fit_transform(arr)\n",
    "    merged_df[feature] = arr\n",
    "\n",
    "for feature in features:\n",
    "    scale_feature(feature)\n",
    "\n",
    "merged_df \"\"\""
   ]
  },
  {
   "cell_type": "markdown",
   "metadata": {},
   "source": [
    "### Create bins for MMSE \n",
    "\n"
   ]
  },
  {
   "cell_type": "code",
   "execution_count": null,
   "metadata": {},
   "outputs": [
    {
     "name": "stdout",
     "output_type": "stream",
     "text": [
      "<class 'pandas.core.frame.DataFrame'>\n",
      "RangeIndex: 373 entries, 0 to 372\n",
      "Data columns (total 16 columns):\n",
      " #   Column       Non-Null Count  Dtype   \n",
      "---  ------       --------------  -----   \n",
      " 0   ID           373 non-null    int64   \n",
      " 1   MRI_ID       373 non-null    object  \n",
      " 2   visit        373 non-null    category\n",
      " 3   delay        373 non-null    int64   \n",
      " 4   sex          373 non-null    category\n",
      " 5   hand         373 non-null    category\n",
      " 6   age          373 non-null    category\n",
      " 7   YOE          373 non-null    category\n",
      " 8   SES          373 non-null    category\n",
      " 9   MMSE         373 non-null    float64 \n",
      " 10  CDR          373 non-null    category\n",
      " 11  eTIV         373 non-null    float64 \n",
      " 12  nWBV         373 non-null    float64 \n",
      " 13  ASF          373 non-null    float64 \n",
      " 14  CDR_rating   373 non-null    category\n",
      " 15  MMSE_labels  373 non-null    category\n",
      "dtypes: category(9), float64(4), int64(2), object(1)\n",
      "memory usage: 26.8+ KB\n"
     ]
    }
   ],
   "source": [
    "bins = [0,10,20,26,np.inf]\n",
    "labels = ['Severe','Moderate','Mild','None']\n",
    "\n",
    "merged_df['MMSE_labels'] = pd.cut(merged_df['MMSE'], bins=bins, labels=labels)\n",
    "\n",
    "merged_df.info()"
   ]
  },
  {
   "cell_type": "markdown",
   "metadata": {},
   "source": [
    "### Create dementia "
   ]
  },
  {
   "cell_type": "code",
   "execution_count": null,
   "metadata": {},
   "outputs": [
    {
     "name": "stdout",
     "output_type": "stream",
     "text": [
      "<class 'pandas.core.frame.DataFrame'>\n",
      "RangeIndex: 373 entries, 0 to 372\n",
      "Data columns (total 17 columns):\n",
      " #   Column       Non-Null Count  Dtype   \n",
      "---  ------       --------------  -----   \n",
      " 0   ID           373 non-null    int64   \n",
      " 1   MRI_ID       373 non-null    object  \n",
      " 2   visit        373 non-null    category\n",
      " 3   delay        373 non-null    int64   \n",
      " 4   sex          373 non-null    category\n",
      " 5   hand         373 non-null    category\n",
      " 6   age          373 non-null    category\n",
      " 7   YOE          373 non-null    category\n",
      " 8   SES          373 non-null    category\n",
      " 9   MMSE         373 non-null    float64 \n",
      " 10  CDR          373 non-null    category\n",
      " 11  eTIV         373 non-null    float64 \n",
      " 12  nWBV         373 non-null    float64 \n",
      " 13  ASF          373 non-null    float64 \n",
      " 14  CDR_rating   373 non-null    category\n",
      " 15  MMSE_labels  373 non-null    category\n",
      " 16  dementia     373 non-null    int64   \n",
      "dtypes: category(9), float64(4), int64(3), object(1)\n",
      "memory usage: 29.7+ KB\n"
     ]
    },
    {
     "data": {
      "text/plain": [
       "ID             0\n",
       "MRI_ID         0\n",
       "visit          0\n",
       "delay          0\n",
       "sex            0\n",
       "hand           0\n",
       "age            0\n",
       "YOE            0\n",
       "SES            0\n",
       "MMSE           0\n",
       "CDR            0\n",
       "eTIV           0\n",
       "nWBV           0\n",
       "ASF            0\n",
       "CDR_rating     0\n",
       "MMSE_labels    0\n",
       "dementia       0\n",
       "dtype: int64"
      ]
     },
     "execution_count": 43,
     "metadata": {},
     "output_type": "execute_result"
    }
   ],
   "source": [
    "\n",
    "def dementiaBool(x):\n",
    "    if(x > 0):\n",
    "        return 1\n",
    "    else:\n",
    "        return 0\n",
    "\n",
    "merged_df['dementia'] = merged_df['CDR_rating'].apply(dementiaBool)\n",
    "\n",
    "merged_df.info()\n",
    "\n",
    "merged_df['dementia'] = merged_df['dementia'].astype('category')\n",
    "\n",
    "merged_df.isna().sum()\n",
    "\n",
    "\n"
   ]
  },
  {
   "cell_type": "markdown",
   "metadata": {},
   "source": [
    "## Creating final pkl file"
   ]
  },
  {
   "cell_type": "code",
   "execution_count": null,
   "metadata": {},
   "outputs": [],
   "source": [
    "merged_df.to_pickle('../data/processed/proecessed.pkl.gz')"
   ]
  }
 ],
 "metadata": {
  "kernelspec": {
   "display_name": ".venv",
   "language": "python",
   "name": "python3"
  },
  "language_info": {
   "codemirror_mode": {
    "name": "ipython",
    "version": 3
   },
   "file_extension": ".py",
   "mimetype": "text/x-python",
   "name": "python",
   "nbconvert_exporter": "python",
   "pygments_lexer": "ipython3",
   "version": "3.9.6"
  }
 },
 "nbformat": 4,
 "nbformat_minor": 2
}
